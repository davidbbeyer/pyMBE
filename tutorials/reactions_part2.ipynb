{
 "cells": [
  {
   "cell_type": "markdown",
   "id": "9c8e341c-810e-4183-9ebb-c6408b2fc549",
   "metadata": {},
   "source": [
    "# Acid-Base Equilibria in pyMBE - Part II: The Grand-Reaction Method"
   ]
  },
  {
   "cell_type": "markdown",
   "id": "d621f230-5cd6-4358-9608-6a3baaba4051",
   "metadata": {},
   "source": [
    "## Prerequisites \n",
    "\n",
    "You should be familiar with part I of this tutorial and the prerequisites listed therein before attempting this tutorial."
   ]
  },
  {
   "cell_type": "markdown",
   "id": "6532757b-f75e-42e4-85e4-457dbd04c681",
   "metadata": {},
   "source": [
    "## Table of contents:\n",
    "* [Introduction: Charge Regulation in Two-Phase Systems](#introduction)\n",
    "* [Theory: Acid-Base Equilibria Coupled to Ion Partitioning](#theory)\n",
    "* [The Grand-Reaction Method](#method)\n",
    "* [Dialysis of Weak Polyelectrolyte Chains](#dialysis)\n",
    "* [Conclusion and Outlook](#conclusion)"
   ]
  },
  {
   "cell_type": "markdown",
   "id": "90b37c3f-130d-47cb-9cdc-ac8d7f143862",
   "metadata": {},
   "source": [
    "## Introduction: Charge Regulation in Two-Phase Systems <a class=\"anchor\" id=\"introduction\"></a>"
   ]
  },
  {
   "cell_type": "markdown",
   "id": "e1b96ed6-67d7-464d-bb6d-23354e8acc1e",
   "metadata": {},
   "source": [
    "## Theory: Acid-Base Equilibria Coupled to Ion Partitioning <a class=\"anchor\" id=\"theory\"></a>"
   ]
  },
  {
   "cell_type": "markdown",
   "id": "7549486c-5ffc-4faa-a699-90ca20606815",
   "metadata": {},
   "source": [
    "### The Donnan Equilibrium"
   ]
  },
  {
   "cell_type": "markdown",
   "id": "5a1363b8-f1f6-4405-b2aa-636305005575",
   "metadata": {},
   "source": [
    "## The Grand-Reaction Method <a class=\"anchor\" id=\"method\"></a>"
   ]
  },
  {
   "cell_type": "markdown",
   "id": "f1f65e88-0f34-4af8-9be4-f3a25df364e9",
   "metadata": {},
   "source": [
    "## Dialysis of Weak Polyelectrolyte Chains <a class=\"anchor\" id=\"dialysis\"></a>"
   ]
  },
  {
   "cell_type": "code",
   "execution_count": null,
   "id": "b79f23f5-1361-4841-891d-bfbc6f3da90c",
   "metadata": {},
   "outputs": [],
   "source": []
  },
  {
   "cell_type": "markdown",
   "id": "7b22f59c-b8ee-4a25-b12c-3fdb8993ef41",
   "metadata": {},
   "source": [
    "## Conclusion and Outlook <a class=\"anchor\" id=\"conclusion\"></a>"
   ]
  },
  {
   "cell_type": "code",
   "execution_count": null,
   "id": "26c787e4-de42-4d6c-bda2-6b6d49566169",
   "metadata": {},
   "outputs": [],
   "source": []
  }
 ],
 "metadata": {
  "kernelspec": {
   "display_name": "pyMBE",
   "language": "python",
   "name": "pymbe"
  },
  "language_info": {
   "codemirror_mode": {
    "name": "ipython",
    "version": 3
   },
   "file_extension": ".py",
   "mimetype": "text/x-python",
   "name": "python",
   "nbconvert_exporter": "python",
   "pygments_lexer": "ipython3",
   "version": "3.10.12"
  }
 },
 "nbformat": 4,
 "nbformat_minor": 5
}
