{
 "cells": [
  {
   "cell_type": "markdown",
   "id": "53bc0ac7-1225-462b-a6fa-c1587655310c",
   "metadata": {},
   "source": [
    "# Acid-Base Equilibria in pyMBE - Part I: The Constant-pH Method"
   ]
  },
  {
   "cell_type": "markdown",
   "id": "c2b8115c-c2bf-471c-9c0a-6af30e160d3c",
   "metadata": {},
   "source": [
    "The main use case of pyMBE is to facilitate the setup of complex macromolecules with chemically reactive acid and/or base groups in ESPResSo. In this two-part tutorial, you will learn how to set up chemical reactions using pyMBE. The first part focuses on single-phase systems and the constant-pH method. Part II will introduce the more complicated grand-reaction method, which can be used to model two-phase systems. It is highly recommended to first complete part I before proceeding to the second part of the tutorial, since essential concepts are introduced here."
   ]
  },
  {
   "cell_type": "markdown",
   "id": "69c79e14-6174-48b7-9fc4-44654cc4ea3f",
   "metadata": {},
   "source": [
    "## Prerequisites \n",
    "\n",
    "You should be familiar with the following concepts and topics in order to effectively work with this tutorial:\n",
    "- Setting up and running coarse-grained simulations in ESPResSo, please refer to the [introductory tutorials](https://espressomd.github.io/tutorials.html)\n",
    "- How to set up particles and molecules in ESPResSo using pyMBE, as described in the [first tutorial](https://github.com/pyMBE-dev/pyMBE/blob/main/tutorials/pyMBE_tutorial.ipynb)\n",
    "- Elementary thermodynamics and statistical physics"
   ]
  },
  {
   "cell_type": "markdown",
   "id": "36e10dc2-0a76-4808-8053-d1cd5d366ffc",
   "metadata": {},
   "source": [
    "## Table of contents:\n",
    "* [Introduction: Charge Regulation in Soft Matter](#introduction)\n",
    "* [Theory of Chemical Equilibria](#theory)\n",
    "* [The Constant-pH Method](#method)\n",
    "* [Setting Up Reactive Acid and Base Particles](#reactive_particles)\n",
    "* [Setting Up Charge Regulating Peptides](#peptides)\n",
    "* [Conclusion and Outlook](#conclusion)"
   ]
  },
  {
   "cell_type": "markdown",
   "id": "bab2da41-ed87-4227-a8ba-1011a3debad7",
   "metadata": {},
   "source": [
    "## Introduction: Charge Regulation in Soft Matter <a class=\"anchor\" id=\"introduction\"></a>"
   ]
  },
  {
   "cell_type": "markdown",
   "id": "9f2693aa-75b0-473e-9476-676f6fd1dcf9",
   "metadata": {},
   "source": [
    "Electrostatic interactions play in important role in many systems consisting of soft and biological matter. For example, most biomacromolecules, such as nucleic acids (DNA, RNA) and many proteins, carry electrical charges, profoundly influencing their behavior in vitro and in vivo. Furthermore, electrostatic interactions are also leveraged in synthetic systems such as polyelectrolytes and charged colloids, enabling their use in many technological applications. Accounting for electrostatic interactions in a theoretical description of a system is challenging due to the long-range nature of the Coulomb potential. Nevertheless, significant progress has been made in the theory and simulation of charged soft matter in recent decades.\n",
    "\n",
    "An interesting class of phenomena occurring in charged systems are categorized under the label \"charge regulation\". Generally speaking, charge regulation refers to the capacity of many macromolecules to modify their electrical charge in response to external stimuli such as the pH-value, the salt concentration and even the presence of other charged objects. This remarkable ability emerges due to the presence of chemically reactive groups, whose ionization state changes in response to various external factors. While charge regulation can significantly alter the behavior of a system, most simulation studies of charged soft matter neglect charge regulation effects. Presumably, this is the case because the modeling of charge regulation requires non-standard simulation methods not easliy accessible to non-experts. To close this gap, pyMBE, in combination with the ESPResSo software, aims to facilitate the simulation setup of complex molecules with many charge regulating groups, thus enabling a more wide-spread use of these simulation methodologies."
   ]
  },
  {
   "cell_type": "markdown",
   "id": "3665ae3a-a003-465e-80c4-6877e74fa281",
   "metadata": {},
   "source": [
    "## Theory of Chemical Equilibria <a class=\"anchor\" id=\"theory\"></a>"
   ]
  },
  {
   "cell_type": "markdown",
   "id": "8d13e53d-79ef-4e93-bcc7-54041c5058b1",
   "metadata": {},
   "source": [
    "### Chemical Equilibria and the Law of Mass-Action"
   ]
  },
  {
   "cell_type": "markdown",
   "id": "215ce1c7-4afb-4d02-a59a-deef4f95d2da",
   "metadata": {},
   "source": [
    "As explained above, the phenomenon of charge regulation is caused by the presence of chemically reactive groups that can alter their ionization state. In the absence of external fluxes of mass or energy, any thermodynamic system containing chemically reactive species will eventually relax into an equilibrium state known as a chemical equilibrium. If a system is in chemical equilibrium, the concentrations of the various chemical species do not change in time, since the reaction rate of each reaction is equal to that of the reverse reaction. In the following, we will focus on such equilibrium states, since they can be described in a unified theoretical framework, the so-called law of mass action. The application of the law of mass action to acid-base equilibria will then be described in the following section.\n",
    "\n",
    "The law of mass action can be derived by applying equilibrium thermodynamics to a chemical reaction, which is standard textbook knowledge in statistical physics and physical chemistry. Let us consider a general chemical reaction of the form \n",
    "$$-\\nu_1 S_1 -\\nu_2 S_2 + ... -\\nu_r S_r \\rightleftharpoons \\nu_{r+1} S_{r+1} + \\nu_{r+2} S_{r+2} + ... +\\nu_{r+p} S_{r+p}.$$\n",
    "In this equation, $S_1,...S_r$ denote the $r$ different species of reactants and $S_{r+1},...S_{r+p}$ are the $p$ different species of products. The prefactors $\\nu_i$ are called stoichiometric coefficients and are by definition negative for reactants and positive for products. Applying the thermodynamic equilibrium conditions, which lead to a minimal free energy, to such a reaction, results in the law of mass action\n",
    "$$ K = \\prod_{i=1}^{r+p} a_i^{\\nu_i}.$$\n",
    "Here, $K$ is a dimensionless constant known as the chemical equilibrium constant. The symbol $a_i$ denotes the activity of species $i$, which is defined as\n",
    "$$ a_i \\equiv \\frac{c_i}{c^\\ominus} \\cdot \\exp(\\beta \\mu_i^\\mathrm{ex}).$$\n",
    "In the above definition, $c_i$ is the concentration of species $i$, $\\mu_i^\\mathrm{ex}$ its excess chemical potential and $c^\\ominus$ a reference concentration chosen as $c^\\ominus = 1\\,\\mathrm{M}$ in the following. Although the law of mass action has a very simple mathematical form, it cannot be evaluated exactly for most interacting systems, since the excess chemical potentials are in general not known. Nevertheless, it provides a useful starting point for various approximate analytical and numerical approaches to chemical equilibria."
   ]
  },
  {
   "cell_type": "markdown",
   "id": "95896614-4413-4a58-a7ed-023842462b1d",
   "metadata": {},
   "source": [
    "### Application to Acid-Base Equilibria: the Henderson-Hasselbalch Equation"
   ]
  },
  {
   "cell_type": "markdown",
   "id": "f2db219f-a68a-4315-ba1e-f60749c6caf8",
   "metadata": {},
   "source": [
    "- derive henderson-hasselbalch equation (general)\n",
    "- give form for an ideal system\n",
    "\n",
    "Weak acids and bases are an important class of molecules that can partake in chemical equilibria. They are especially interesting from the point of view of charge regulation, since they can alter their ionization state by the binding or release of a proton. Formally, the dissociation-association equilibrium of a weak acid HA can be written as\n",
    "$$\\text{HA} \\rightleftharpoons \\text{A}^{-} + \\text{H}^{+},$$\n",
    "where $\\text{A}^{-}$ denotes the acid in the ionized (deprotonated) form and $\\text{H}^{+}$ a proton. Similarly, for a weak base B we have \n",
    "$$\\text{BH}^{+} \\rightleftharpoons \\text{B} + \\text{H}^{+},$$\n",
    "with the protonated base $\\text{BH}^{+}$. \n",
    "\n",
    "The ionization behavior of weak acids and bases can be theoretically described using the law of mass action. In the following, we focus on the case of an acid, however, bases can be considered completely analogously. Applying the law of mass action to the chemical equation introduced above, we obtain\n",
    "$$K_\\text{A} = \\frac{a_{\\text{H}^{+}}a_{\\text{A}^{-}}}{a_{\\text{HA}}},$$\n",
    "where we have used the standard nomenclature $K_\\text{A}$ for the dissociation constant of a weak acid. An important control parameter in aqueous solutions"
   ]
  },
  {
   "cell_type": "markdown",
   "id": "cae1eeb0-d460-4e5d-8db0-586a7b1a7928",
   "metadata": {},
   "source": [
    "## The Constant-pH Method <a class=\"anchor\" id=\"method\"></a>"
   ]
  },
  {
   "cell_type": "code",
   "execution_count": null,
   "id": "4e3825d1-d992-4e1f-bc3f-00ea50701c65",
   "metadata": {},
   "outputs": [],
   "source": []
  },
  {
   "cell_type": "markdown",
   "id": "d672c66b-0df0-4429-8ae5-b9c373d59096",
   "metadata": {},
   "source": [
    "## Setting Up Reactive Acid and Base Particles <a class=\"anchor\" id=\"reactive_particles\"></a>"
   ]
  },
  {
   "cell_type": "markdown",
   "id": "ffa5a125-1318-4619-977f-57445f2c58f7",
   "metadata": {},
   "source": [
    "pyMBE allows to set up cpH simulations of complex molecules with many different acidic and basic residues in ESPResSo. In a first step, we will now learn how to specify the acidity of simple particles and set up reactions. Later on, we will consider a complex charge regulating polypeptide.\n",
    "\n",
    "Let us get started by importing the required libraries and setting up pyMBE:"
   ]
  },
  {
   "cell_type": "code",
   "execution_count": 1,
   "id": "60e066b0-4d1c-495b-8cbb-290c0e822eeb",
   "metadata": {},
   "outputs": [
    {
     "name": "stdout",
     "output_type": "stream",
     "text": [
      "Current set of reduced units:\n",
      "0.355 nanometer = 1 reduced_length\n",
      "4.1164e-21 joule = 1 reduced_energy\n",
      "1.6022e-19 coulomb = 1 reduced_charge\n",
      "Temperature: 298.15 kelvin\n"
     ]
    }
   ],
   "source": [
    "# Import pyMBE and  ESPResSo\n",
    "import pyMBE\n",
    "import espressomd\n",
    "\n",
    "# Import some other libraries\n",
    "import numpy as np\n",
    "from tqdm import tqdm\n",
    "import matplotlib.pyplot as plt\n",
    "\n",
    "# Create an instance of pyMBE\n",
    "pmb = pyMBE.pymbe_library(seed=42)\n",
    "\n",
    "# Units and general parameters\n",
    "pmb.set_reduced_units(unit_length=0.355*pmb.units.nm)\n",
    "solvent_permittivity = 78.9"
   ]
  },
  {
   "cell_type": "markdown",
   "id": "3f50cebc-4200-4b45-a83e-d8c7df03b93a",
   "metadata": {},
   "source": [
    "In the first tutorial, you already learned how to define particles in pyMBE. By default, particles in pyMBE are inert, i.e. they are chemically non-reactive. However, when defining a particle, it is also possible to specify the `acidity` (either `acidic` or `basic`) as well as the corresponding $\\mathrm{p}K_\\mathrm{A}$-value. For example, we can define a particle type `A` that corresponds to a weak acid with $\\mathrm{p}K_\\mathrm{A}=4.0$:"
   ]
  },
  {
   "cell_type": "code",
   "execution_count": 2,
   "id": "00bd427a-57fc-4a92-b716-0468ee1f7976",
   "metadata": {},
   "outputs": [],
   "source": [
    "pmb.define_particle(name='A', \n",
    "                    acidity='acidic', \n",
    "                    pka=4.0,\n",
    "                    sigma=1*pmb.units('reduced_length'), \n",
    "                    epsilon=1*pmb.units('reduced_energy'))"
   ]
  },
  {
   "cell_type": "markdown",
   "id": "ec169d2a-3fa9-42b1-b4b1-7fbf3280b521",
   "metadata": {},
   "source": [
    "Completely analogous to the inert case, we can also define a corresponding residue and assemble multiple residues into a chain, i.e. a weak polyacid. We also define a covalent bond between the monomers of the polyacid:"
   ]
  },
  {
   "cell_type": "code",
   "execution_count": 3,
   "id": "e8d155f6-aca8-45e5-8a38-32537803832f",
   "metadata": {},
   "outputs": [
    {
     "name": "stdout",
     "output_type": "stream",
     "text": [
      "WARNING: No value provided for r_0. Defaulting to r_0 = 0\n"
     ]
    }
   ],
   "source": [
    "pmb.define_residue(name='rA', \n",
    "                   central_bead=\"A\", \n",
    "                   side_chains=[])\n",
    "\n",
    "pmb.define_molecule(name='polyacid', \n",
    "                    residue_list=['rA']*10)\n",
    "\n",
    "bond_type = 'FENE'\n",
    "fene_spring_constant = 30 * pmb.units('reduced_energy / reduced_length**2')\n",
    "fene_r_max = 1.5 * pmb.units('reduced_length')\n",
    "\n",
    "fene_bond = {'k'      : fene_spring_constant,\n",
    "             'd_r_max': fene_r_max, \n",
    "            }\n",
    "\n",
    "pmb.define_bond(bond_type = bond_type, bond_parameters = fene_bond, particle_pairs = [['A','A']])"
   ]
  },
  {
   "cell_type": "markdown",
   "id": "b4ce601a-0e25-4c92-b6af-1806170f53fb",
   "metadata": {},
   "source": [
    "To be able to set up the reactions in the cpH-ensemble, we also need to define a counterion (a cation in the case of a weak acid). We simply call it `cation` instead of $\\mathrm{H}^+$ due to the ambiguity mentioned above:"
   ]
  },
  {
   "cell_type": "code",
   "execution_count": 4,
   "id": "b8c6b296-215c-4630-b5d6-14905e16722e",
   "metadata": {},
   "outputs": [],
   "source": [
    "pmb.define_particle(name='cation',\n",
    "                    z=1,\n",
    "                    sigma=1*pmb.units('reduced_length'), \n",
    "                    epsilon=1*pmb.units('reduced_energy'))"
   ]
  },
  {
   "cell_type": "markdown",
   "id": "f127c68f-5b88-48d7-9ef0-847cb7b5234d",
   "metadata": {},
   "source": [
    "Now we can initialize our ESPResSo system, add the bonds to ESPResSo and create a single polyacid molecule in the system:"
   ]
  },
  {
   "cell_type": "code",
   "execution_count": 5,
   "id": "2e127b4b-e7fd-43fe-9cab-53d21b371af7",
   "metadata": {},
   "outputs": [],
   "source": [
    "espresso_system = espressomd.System(box_l = [20*pmb.units('reduced_length').magnitude]*3)\n",
    "\n",
    "pmb.add_bonds_to_espresso(espresso_system=espresso_system)\n",
    "\n",
    "pmb.create_pmb_object(name = 'polyacid',\n",
    "                      number_of_objects = 1,\n",
    "                      espresso_system = espresso_system)"
   ]
  },
  {
   "cell_type": "markdown",
   "id": "9a832b5a-bf60-4a97-9760-98080d5981bc",
   "metadata": {},
   "source": [
    "Note that apart from the bonded interactions between monomers, we have not added any non-bonded interactions (either electrostatic or Lennard-Jones) yet. This means that the system will behave according to the ideal theory and we can compare the ionization state obtained from the simulation to the Henderson-Hasselbalch equation. \n",
    "\n",
    "Setting up the chemical reactions using pyMBE is straightforward, we just have to invoke `setup_cpH` with the desired cation and pH-value:"
   ]
  },
  {
   "cell_type": "code",
   "execution_count": 6,
   "id": "d213c6ad-b703-41b2-8558-adbec0d0d949",
   "metadata": {},
   "outputs": [],
   "source": [
    "cpH, labels = pmb.setup_cpH(counter_ion=\"cation\",\n",
    "                            constant_pH=4.0)"
   ]
  },
  {
   "cell_type": "markdown",
   "id": "41acb016-d626-4418-bd67-1261e2ec4f75",
   "metadata": {},
   "source": [
    "`cpH` is an instance of a `reaction_methods.ConstantpHEnsemble` object in ESPResSo, which can be used to perform Monte Carlo steps in the cpH-ensemble. As a sanity check, let us calculate the mean degree of ionization for the given pH-value of $\\mathrm{pH}=\\mathrm{p}K_\\mathrm{A}=4.0$, for which we expect a degree of ionization $\\alpha=0.5$. Note that we do not need integration steps here due to the ideal nature of the system."
   ]
  },
  {
   "cell_type": "code",
   "execution_count": 10,
   "id": "5aa483a2-4f8c-4a61-9fea-355de036994c",
   "metadata": {},
   "outputs": [
    {
     "name": "stderr",
     "output_type": "stream",
     "text": [
      "100%|█████████████████████████████████████████████████████████████████████████████████████████████████████████████████████████████████████████████████████████████████████████████████████████████████████| 100/100 [00:02<00:00, 34.48it/s]"
     ]
    },
    {
     "name": "stdout",
     "output_type": "stream",
     "text": [
      "\n",
      " Measured degree of ionization: 0.511\n"
     ]
    },
    {
     "name": "stderr",
     "output_type": "stream",
     "text": [
      "\n"
     ]
    }
   ],
   "source": [
    "alphas = []\n",
    "for i in tqdm(range(100)):\n",
    "    cpH.reaction(reaction_steps=10)\n",
    "    charge_dict = pmb.calculate_net_charge(espresso_system=espresso_system, \n",
    "                                           molecule_name='polyacid', \n",
    "                                           dimensionless=True)\n",
    "    alphas.append(-1.0*charge_dict['mean']/10)\n",
    "\n",
    "print(\"\\n Measured degree of ionization:\", np.mean(alphas))"
   ]
  },
  {
   "cell_type": "markdown",
   "id": "e63ab894-87f2-4762-a159-1d3bd95de906",
   "metadata": {},
   "source": [
    "In the above code snippet, we used the pyMBE function `calculate_net_charge` to calculate the net charge on the polyacid molecule. This number has to be multiplied by $-1$ (since the ionized acid is negative) and normalized by the number of monomers per chain to obtain the degree of ionization. As expected, the degree of ionization measured in the simulation is close to the analyztical value $\\alpha=0.5$. An even better agreement can be obtained by using a larger number of Monte Carlo samples."
   ]
  },
  {
   "cell_type": "markdown",
   "id": "0ab3d607-96b6-4e10-8496-c661f67fbe7b",
   "metadata": {},
   "source": [
    "**Now it is your turn to practice running simulations for reactive systems using pyMBE and ESPResSo. Implement a function `sample_alpha(pH)` that sets the correct pH-value (passed as the argument of the function), runs a short equilibration (50 reaction steps should be sufficient) and then samples the degree of ionization over 100 loops as above. The function should return the averaged degree of ionization.**"
   ]
  },
  {
   "cell_type": "code",
   "execution_count": 19,
   "id": "b72f4bf2-aba9-4779-bc94-cb44d47770bf",
   "metadata": {},
   "outputs": [],
   "source": [
    "def sample_alpha(pH):\n",
    "    # Set the correct pH-value\n",
    "    cpH, labels = pmb.setup_cpH(counter_ion=\"cation\",\n",
    "                                constant_pH=pH)\n",
    "\n",
    "    # Equilibration\n",
    "    cpH.reaction(reaction_steps=50)\n",
    "\n",
    "    # Sampling\n",
    "    alphas = []\n",
    "    for i in range(100):\n",
    "        cpH.reaction(reaction_steps=10)\n",
    "        charge_dict = pmb.calculate_net_charge(espresso_system=espresso_system, \n",
    "                                           molecule_name='polyacid', \n",
    "                                           dimensionless=True)\n",
    "        alphas.append(-1.0*charge_dict['mean']/10)\n",
    "\n",
    "    return np.mean(alphas)"
   ]
  },
  {
   "cell_type": "markdown",
   "id": "73170511-7b3d-4d32-93b7-44d543f148bc",
   "metadata": {},
   "source": [
    "**Now, calculate the degree of ionization for a range of pH-values and plot the result as a function the pH.**"
   ]
  },
  {
   "cell_type": "code",
   "execution_count": 20,
   "id": "d8cbc964-b2b3-4259-9a9b-5742926fb289",
   "metadata": {},
   "outputs": [
    {
     "name": "stderr",
     "output_type": "stream",
     "text": [
      "100%|█████████████████████████████████████████████████████████████████████████████████████████████████████████████████████████████████████████████████████████████████████████████████████████████████████████| 7/7 [00:15<00:00,  2.23s/it]\n"
     ]
    }
   ],
   "source": [
    "pH_values = [1.0 + i for i in range(7)]\n",
    "alpha_values = []\n",
    "\n",
    "for pH in tqdm(pH_values):\n",
    "    alpha_values.append(sample_alpha(pH))"
   ]
  },
  {
   "cell_type": "code",
   "execution_count": 21,
   "id": "030181a2-905a-4fa3-8aae-04ef0d1d9cd4",
   "metadata": {},
   "outputs": [
    {
     "data": {
      "image/png": "[encoded data removed]",
      "text/plain": [
       "<Figure size 640x480 with 1 Axes>"
      ]
     },
     "metadata": {},
     "output_type": "display_data"
    }
   ],
   "source": [
    "plt.plot(pH_values, alpha_values, linestyle=\"none\", marker=\"o\")\n",
    "plt.xlabel(r\"pH\")\n",
    "plt.ylabel(r\"degree of ionization $\\alpha$\")\n",
    "plt.show()"
   ]
  },
  {
   "cell_type": "markdown",
   "id": "28c1d0ec-dc4a-4d55-b44d-cc8cbbfa37cb",
   "metadata": {},
   "source": [
    "To check the quality of the simulation results, it is useful to directly compare the data to the prediction by the Henderson-Hasselbalch equation. This kind of comparison is not only meaningful for ideal systems, but also serves as an important reference for interacting systems, because it allows for an assessment of the importance of (electrostatic) interactions on the ionization behavior. For a simple polyacid as considered here, the Henderson-Hasselbalch equation is straightforward to write down. In contrast, for complex molecules with many different titrable acid and base groups, it becomes cumbersome to keep track of the different particles, their $\\mathrm{p}K_\\mathrm{A}$-values, etc. Luckily, pyMBE contains a function `calculate_HH` that allows the user to calculate the ideal charge on arbitrarily complex charge regulating molecules. For example, for the polyacid we get the following charge for $\\mathrm{pH}=4.0$:"
   ]
  },
  {
   "cell_type": "code",
   "execution_count": 22,
   "id": "2accc0af-dace-41c8-9067-73897b890f13",
   "metadata": {},
   "outputs": [
    {
     "name": "stdout",
     "output_type": "stream",
     "text": [
      "[-5.0]\n"
     ]
    }
   ],
   "source": [
    "Z_HH = pmb.calculate_HH(molecule_name='polyacid',\n",
    "                        pH_list = [4.0])\n",
    "print(Z_HH)"
   ]
  },
  {
   "cell_type": "markdown",
   "id": "756e5983-fb84-4514-9e79-9d15bc2708cb",
   "metadata": {},
   "source": [
    "**Use the function `calculate_HH` to calculate the Henderson-Hassebalch prediction for $\\alpha$ of the polyacid and for a range of pH-values. Create a plot that contains both this prediction and the degree of ionization as measured from the simulation.**"
   ]
  },
  {
   "cell_type": "code",
   "execution_count": 23,
   "id": "aa713550-57ec-4751-8002-5c0d72813f01",
   "metadata": {},
   "outputs": [
    {
     "data": {
      "image/png": "[encoded data removed]",
      "text/plain": [
       "<Figure size 640x480 with 1 Axes>"
      ]
     },
     "metadata": {},
     "output_type": "display_data"
    }
   ],
   "source": [
    "pH_range = np.linspace(0.7, 7.3, 1000)\n",
    "Z_HH = pmb.calculate_HH(molecule_name='polyacid',\n",
    "                        pH_list = pH_range)\n",
    "\n",
    "plt.plot(pH_range, -np.asarray(Z_HH)/10, label=r\"Henderson-Hasselbalch\")\n",
    "plt.plot(pH_values, alpha_values, linestyle=\"none\", marker=\"o\", label=r\"Simulation\")\n",
    "plt.xlabel(r\"pH\")\n",
    "plt.ylabel(r\"degree of ionization $\\alpha$\")\n",
    "plt.show()"
   ]
  },
  {
   "cell_type": "markdown",
   "id": "3724971d-5e33-480b-a766-0e908210d6f5",
   "metadata": {},
   "source": [
    "## Setting Up Charge Regulating Peptides <a class=\"anchor\" id=\"peptides\"></a>"
   ]
  },
  {
   "cell_type": "markdown",
   "id": "cb3acd93-947e-4454-a3f1-0a43591f1081",
   "metadata": {},
   "source": [
    "clean up before the second part"
   ]
  },
  {
   "cell_type": "code",
   "execution_count": 8,
   "id": "7296cd3b-2957-4bcc-b491-12fb94665195",
   "metadata": {},
   "outputs": [
    {
     "data": {
      "text/html": [
       "<div>\n",
       "<style scoped>\n",
       "    .dataframe tbody tr th:only-of-type {\n",
       "        vertical-align: middle;\n",
       "    }\n",
       "\n",
       "    .dataframe tbody tr th {\n",
       "        vertical-align: top;\n",
       "    }\n",
       "\n",
       "    .dataframe thead tr th {\n",
       "        text-align: left;\n",
       "    }\n",
       "</style>\n",
       "<table border=\"1\" class=\"dataframe\">\n",
       "  <thead>\n",
       "    <tr>\n",
       "      <th></th>\n",
       "      <th>name</th>\n",
       "      <th>pmb_type</th>\n",
       "      <th>sigma</th>\n",
       "      <th>cutoff</th>\n",
       "      <th>offset</th>\n",
       "      <th>epsilon</th>\n",
       "      <th colspan=\"3\" halign=\"left\">state_one</th>\n",
       "    </tr>\n",
       "    <tr>\n",
       "      <th></th>\n",
       "      <th></th>\n",
       "      <th></th>\n",
       "      <th></th>\n",
       "      <th></th>\n",
       "      <th></th>\n",
       "      <th></th>\n",
       "      <th>label</th>\n",
       "      <th>es_type</th>\n",
       "      <th>z</th>\n",
       "    </tr>\n",
       "  </thead>\n",
       "  <tbody>\n",
       "    <tr>\n",
       "      <th>0</th>\n",
       "      <td>cation</td>\n",
       "      <td>particle</td>\n",
       "      <td>1 reduced_length</td>\n",
       "      <td>1.122462048309373 reduced_length</td>\n",
       "      <td>0 reduced_length</td>\n",
       "      <td>1 reduced_energy</td>\n",
       "      <td>cation</td>\n",
       "      <td>2</td>\n",
       "      <td>1</td>\n",
       "    </tr>\n",
       "  </tbody>\n",
       "</table>\n",
       "</div>"
      ],
      "text/plain": [
       "     name  pmb_type             sigma                            cutoff  \\\n",
       "                                                                          \n",
       "0  cation  particle  1 reduced_length  1.122462048309373 reduced_length   \n",
       "\n",
       "             offset           epsilon state_one             \n",
       "                                          label es_type  z  \n",
       "0  0 reduced_length  1 reduced_energy    cation       2  1  "
      ]
     },
     "execution_count": 8,
     "metadata": {},
     "output_type": "execute_result"
    }
   ],
   "source": [
    "pmb.destroy_pmb_object_in_system(name = 'polyacid', \n",
    "                                 espresso_system = espresso_system)\n",
    "pmb.filter_df(pmb_type = 'particle')"
   ]
  },
  {
   "cell_type": "code",
   "execution_count": 9,
   "id": "a8d136a0-be53-4f3a-81c6-63befc331174",
   "metadata": {},
   "outputs": [],
   "source": [
    "peptide_sequence = 3*\"E\" + 2*\"H\" + 5*\"K\" + 4*\"D\""
   ]
  },
  {
   "cell_type": "code",
   "execution_count": 10,
   "id": "c3014a8a-270e-40ec-b344-289bfae9fb37",
   "metadata": {},
   "outputs": [],
   "source": [
    "path_to_interactions=pmb.get_resource(\"parameters/peptides/Lunkad2021.json\")\n",
    "path_to_pka=pmb.get_resource(\"parameters/pka_sets/CRC1991.json\")\n",
    "pmb.load_interaction_parameters(filename=path_to_interactions)\n",
    "pmb.load_pka_set(filename=path_to_pka)\n",
    "model = '2beadAA'  # Model with 1 beads per each aminoacid"
   ]
  },
  {
   "cell_type": "code",
   "execution_count": 11,
   "id": "f0011604-c516-45bf-ae0e-387fd325d22f",
   "metadata": {},
   "outputs": [],
   "source": [
    "pmb.define_peptide(name='peptide', \n",
    "                   sequence=peptide_sequence, \n",
    "                   model=model)"
   ]
  },
  {
   "cell_type": "code",
   "execution_count": 12,
   "id": "d3f843c2-b842-4711-acd4-6aa10b7e3226",
   "metadata": {},
   "outputs": [],
   "source": [
    "pmb.define_particle(name='anion',\n",
    "                    z=-1,\n",
    "                    sigma=1*pmb.units('reduced_length'), \n",
    "                    epsilon=1*pmb.units('reduced_energy'))"
   ]
  },
  {
   "cell_type": "code",
   "execution_count": 13,
   "id": "da24143e-a7de-4af6-be14-0ff14acdf284",
   "metadata": {},
   "outputs": [
    {
     "name": "stdout",
     "output_type": "stream",
     "text": [
      "The following counter-ions have been created: \n",
      "Ion type: anion created number: 7\n",
      "Ion type: cation created number: 0\n"
     ]
    },
    {
     "data": {
      "text/plain": [
       "{'anion': 7, 'cation': 0}"
      ]
     },
     "execution_count": 13,
     "metadata": {},
     "output_type": "execute_result"
    }
   ],
   "source": [
    "# Add all bonds to espresso system\n",
    "pmb.add_bonds_to_espresso(espresso_system=espresso_system)\n",
    "\n",
    "# Create your molecules into the espresso system\n",
    "pmb.create_pmb_object(name='peptide',\n",
    "                      number_of_objects=1,\n",
    "                      espresso_system=espresso_system)\n",
    "\n",
    "# Create counterions for the peptide chains\n",
    "pmb.create_counterions(object_name='peptide',\n",
    "                       cation_name='cation',\n",
    "                       anion_name='anion',\n",
    "                       espresso_system=espresso_system)"
   ]
  },
  {
   "cell_type": "code",
   "execution_count": 17,
   "id": "88e528f8-e248-43c0-87c5-40e72ff2345b",
   "metadata": {},
   "outputs": [],
   "source": [
    "def sample_charge(pH):\n",
    "    # Set the correct pH-value\n",
    "    cpH, labels = pmb.setup_cpH(counter_ion=\"cation\",\n",
    "                                constant_pH=pH)\n",
    "\n",
    "    # Equilibration\n",
    "    cpH.reaction(reaction_steps=50)\n",
    "\n",
    "    # Sampling\n",
    "    charges = []\n",
    "    for i in range(100):\n",
    "        cpH.reaction(reaction_steps=10)\n",
    "        charge_dict = pmb.calculate_net_charge(espresso_system=espresso_system, \n",
    "                                               molecule_name='peptide',\n",
    "                                               dimensionless=True)\n",
    "        charges.append(charge_dict['mean'])\n",
    "\n",
    "    return np.mean(charges)"
   ]
  },
  {
   "cell_type": "code",
   "execution_count": 22,
   "id": "e10a34b1-20f3-49af-a1ed-57595fbf8408",
   "metadata": {},
   "outputs": [
    {
     "name": "stderr",
     "output_type": "stream",
     "text": [
      "100%|█████████████████████████████████████████████████████████████████████████████████████████████████████████████████████████████████████████████████████████████████████████████████████████████████████████| 7/7 [00:24<00:00,  3.57s/it]\n"
     ]
    }
   ],
   "source": [
    "pH_values = [2.0+i*2.0 for i in range(7)]\n",
    "charge_values = []\n",
    "\n",
    "for pH in tqdm(pH_values):\n",
    "    charge_values.append(sample_charge(pH))"
   ]
  },
  {
   "cell_type": "code",
   "execution_count": 23,
   "id": "081dcac9-8048-4434-bb1b-5be9084c9114",
   "metadata": {},
   "outputs": [
    {
     "data": {
      "image/png": "[encoded data removed]",
      "text/plain": [
       "<Figure size 640x480 with 1 Axes>"
      ]
     },
     "metadata": {},
     "output_type": "display_data"
    }
   ],
   "source": [
    "pH_range = np.linspace(1.0, 14.0, 1000)\n",
    "Z_HH = pmb.calculate_HH(molecule_name='peptide',\n",
    "                        pH_list = pH_range)\n",
    "\n",
    "plt.plot(pH_range, Z_HH)\n",
    "plt.plot(pH_values, charge_values, linestyle=\"none\", marker=\"o\")\n",
    "plt.show()"
   ]
  },
  {
   "cell_type": "code",
   "execution_count": null,
   "id": "f00fcad9-3178-4000-b0bc-b5c8a7c51b5f",
   "metadata": {},
   "outputs": [],
   "source": []
  },
  {
   "cell_type": "markdown",
   "id": "f53bbf0a-1d8f-4b4d-96e6-a1df3125e126",
   "metadata": {},
   "source": [
    "## Conclusion and Outlook <a class=\"anchor\" id=\"conclusion\"></a>"
   ]
  },
  {
   "cell_type": "code",
   "execution_count": null,
   "id": "75ad0d0d-ed88-40c3-9129-b2dd6ca59ac2",
   "metadata": {},
   "outputs": [],
   "source": []
  }
 ],
 "metadata": {
  "kernelspec": {
   "display_name": "pyMBE",
   "language": "python",
   "name": "pymbe"
  },
  "language_info": {
   "codemirror_mode": {
    "name": "ipython",
    "version": 3
   },
   "file_extension": ".py",
   "mimetype": "text/x-python",
   "name": "python",
   "nbconvert_exporter": "python",
   "pygments_lexer": "ipython3",
   "version": "3.10.12"
  }
 },
 "nbformat": 4,
 "nbformat_minor": 5
}
